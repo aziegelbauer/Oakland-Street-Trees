{
 "cells": [
  {
   "cell_type": "code",
   "execution_count": 115,
   "metadata": {},
   "outputs": [],
   "source": [
    "#imports libraries and csv file\n",
    "import pandas as pd\n",
    "df = pd.read_csv(('oakland-street-trees.csv'), index_col=False)"
   ]
  },
  {
   "cell_type": "markdown",
   "metadata": {},
   "source": [
    "## Summary\n",
    "Data from https://www.kaggle.com/cityofoakland/oakland-street-trees"
   ]
  },
  {
   "cell_type": "markdown",
   "metadata": {},
   "source": [
    "## Assess\n",
    "#### Data Quality\n",
    "- change column names to lower case\n",
    "\n",
    "#### Data Tidiness\n",
    "- make column for latitude and longituge\n",
    "- make genus column\n",
    "- drop unecessary columns"
   ]
  },
  {
   "cell_type": "markdown",
   "metadata": {},
   "source": [
    "## Clean"
   ]
  },
  {
   "cell_type": "markdown",
   "metadata": {},
   "source": [
    "### Change columns to lowercase"
   ]
  },
  {
   "cell_type": "code",
   "execution_count": 116,
   "metadata": {},
   "outputs": [],
   "source": [
    "#changes column names to lower case\n",
    "df.columns = df.columns.str.lower()"
   ]
  },
  {
   "cell_type": "markdown",
   "metadata": {},
   "source": [
    "### Latitude/Longitude"
   ]
  },
  {
   "cell_type": "code",
   "execution_count": 117,
   "metadata": {},
   "outputs": [],
   "source": [
    "#extracts lat/long into separate columns and drops unnecessary columns\n",
    "df['latitude_1'] = df['location 1'].str.extract('(\\'\\d\\d\\.\\d\\d\\d\\d\\d\\d\\d\\d\\d\\d\\d\\d\\d\\d)', expand=True)\n",
    "df['latitude'] = df['latitude_1'].str.extract('(\\d\\d\\.\\d\\d\\d\\d\\d\\d\\d\\d\\d\\d\\d\\d\\d\\d)', expand=True)\n",
    "df['longitude'] = df['location 1'].str.extract('(-\\d\\d\\d\\.\\d\\d\\d\\d\\d\\d\\d\\d\\d\\d\\d\\d\\d\\d)', expand=True)\n",
    "df.drop(columns={'latitude_1', 'location 1', 'stname'}, inplace=True)"
   ]
  },
  {
   "cell_type": "markdown",
   "metadata": {},
   "source": [
    "### Fixing species columns\n",
    "Only names not latin are: bonsai, fruit, palm, dead/stump/shrub"
   ]
  },
  {
   "cell_type": "code",
   "execution_count": 118,
   "metadata": {},
   "outputs": [
    {
     "name": "stderr",
     "output_type": "stream",
     "text": [
      "/anaconda3/lib/python3.6/site-packages/ipykernel/__main__.py:4: FutureWarning: currently extract(expand=None) means expand=False (return Index/Series/DataFrame) but in a future version of pandas this will be changed to expand=True (return DataFrame)\n"
     ]
    }
   ],
   "source": [
    "#changes names to lower case and extracts genus from species column\n",
    "df['species'] = df['species'].str.lower()\n",
    "df['species'] = df['species'].str.replace(' sp', '')\n",
    "df['genus_name'] = df['species'].str.extract('([a-z]\\w{0,})')\n",
    "#changes common for latin names\n",
    "df['genus_name'] = df['genus_name'].str.replace('walnut', 'juglans')\n",
    "df['genus_name'] = df['genus_name'].str.replace('fig', 'ficus')\n",
    "df['genus_name'] = df['genus_name'].str.replace('banana', 'musa')\n",
    "df['genus_name'] = df['genus_name'].str.replace('apricot', 'prunus')\n",
    "df['genus_name'] = df['genus_name'].str.replace('almond', 'prunus')\n",
    "df['genus_name'] = df['genus_name'].str.replace('tbd', 'NaN')\n",
    "df['genus_name'] = df['genus_name'].str.replace('other', 'NaN')\n",
    "df['genus_name'] = df['genus_name'].str.replace('unknown', 'NaN')\n",
    "#drops species column"
   ]
  },
  {
   "cell_type": "code",
   "execution_count": 122,
   "metadata": {},
   "outputs": [
    {
     "data": {
      "text/plain": [
       "-122.27301999967312    38598\n",
       "Name: longitude, dtype: int64"
      ]
     },
     "execution_count": 122,
     "metadata": {},
     "output_type": "execute_result"
    }
   ],
   "source": [
    "df.longitude.value_counts()"
   ]
  },
  {
   "cell_type": "markdown",
   "metadata": {},
   "source": [
    "## Save to CSV"
   ]
  },
  {
   "cell_type": "code",
   "execution_count": 157,
   "metadata": {},
   "outputs": [],
   "source": [
    "df.to_csv('oakland_street_trees.csv')"
   ]
  },
  {
   "cell_type": "markdown",
   "metadata": {},
   "source": [
    "## References\n",
    "- https://www.kaggle.com/cityofoakland/oakland-street-trees\n",
    "- https://stackoverflow.com/questions/19726029/how-can-i-make-pandas-dataframe-column-headers-all-lowercase\n",
    "- https://chrisalbon.com/python/data_wrangling/pandas_regex_to_create_columns/\n",
    "- https://www.wikipedia.org"
   ]
  },
  {
   "cell_type": "code",
   "execution_count": null,
   "metadata": {},
   "outputs": [],
   "source": []
  }
 ],
 "metadata": {
  "kernelspec": {
   "display_name": "Python [default]",
   "language": "python",
   "name": "python3"
  },
  "language_info": {
   "codemirror_mode": {
    "name": "ipython",
    "version": 3
   },
   "file_extension": ".py",
   "mimetype": "text/x-python",
   "name": "python",
   "nbconvert_exporter": "python",
   "pygments_lexer": "ipython3",
   "version": "3.6.4"
  }
 },
 "nbformat": 4,
 "nbformat_minor": 2
}
